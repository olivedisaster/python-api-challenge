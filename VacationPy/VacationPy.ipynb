{
 "cells": [
  {
   "cell_type": "code",
   "execution_count": 1,
   "metadata": {},
   "outputs": [],
   "source": [
    "# Dependencies and Setup\n",
    "import matplotlib.pyplot as plt\n",
    "import pandas as pd\n",
    "import numpy as np\n",
    "import requests\n",
    "import gmaps\n",
    "import os\n",
    "import gmaps\n",
    "\n",
    "# Import API key\n",
    "from api_keys import g_key # Output File (CSV)\n",
    "\n"
   ]
  },
  {
   "cell_type": "code",
   "execution_count": 2,
   "metadata": {},
   "outputs": [],
   "source": [
    "#import csv and then create heatmap. Look up syuntax from heatnmap actviity.\n",
    "#Use .loc function in order to filter out the df for ideal weather\n",
    "#Create hotel_df and add column called \"Hotel Name\"\n",
    "#Run google API calls and after I can refer googledat activity\n",
    "#From there I can use that to get api calls for the hotel name in those cities\n",
    "#Use the same heatmap and just add marker layer -- Look in the 3rd day actvoty folder\n"
   ]
  },
  {
   "cell_type": "code",
   "execution_count": 3,
   "metadata": {},
   "outputs": [],
   "source": [
    "#Store filepath in a variable\n",
    "city_data = \"../cities.csv\""
   ]
  },
  {
   "cell_type": "code",
   "execution_count": 4,
   "metadata": {},
   "outputs": [],
   "source": [
    "#Read data file woth pandas library\n",
    "city_data_df = pd.read_csv(city_data, encoding=\"ISO-8859-1\")"
   ]
  },
  {
   "cell_type": "code",
   "execution_count": 5,
   "metadata": {},
   "outputs": [],
   "source": [
    "#Configure gmaps with API key\n",
    "gmaps.configure(api_key=g_key)"
   ]
  },
  {
   "cell_type": "code",
   "execution_count": 6,
   "metadata": {},
   "outputs": [
    {
     "data": {
      "text/html": [
       "<div>\n",
       "<style scoped>\n",
       "    .dataframe tbody tr th:only-of-type {\n",
       "        vertical-align: middle;\n",
       "    }\n",
       "\n",
       "    .dataframe tbody tr th {\n",
       "        vertical-align: top;\n",
       "    }\n",
       "\n",
       "    .dataframe thead th {\n",
       "        text-align: right;\n",
       "    }\n",
       "</style>\n",
       "<table border=\"1\" class=\"dataframe\">\n",
       "  <thead>\n",
       "    <tr style=\"text-align: right;\">\n",
       "      <th></th>\n",
       "      <th>City_ID</th>\n",
       "      <th>City</th>\n",
       "      <th>Cloudiness</th>\n",
       "      <th>Country</th>\n",
       "      <th>Date</th>\n",
       "      <th>Humidity</th>\n",
       "      <th>Lat</th>\n",
       "      <th>Lng</th>\n",
       "      <th>Max Temp</th>\n",
       "      <th>Wind Speed</th>\n",
       "    </tr>\n",
       "  </thead>\n",
       "  <tbody>\n",
       "    <tr>\n",
       "      <th>231</th>\n",
       "      <td>231</td>\n",
       "      <td>mocuba</td>\n",
       "      <td>1</td>\n",
       "      <td>MZ</td>\n",
       "      <td>1558378804</td>\n",
       "      <td>90</td>\n",
       "      <td>-16.84</td>\n",
       "      <td>36.99</td>\n",
       "      <td>65.76</td>\n",
       "      <td>2.42</td>\n",
       "    </tr>\n",
       "    <tr>\n",
       "      <th>494</th>\n",
       "      <td>494</td>\n",
       "      <td>baylo</td>\n",
       "      <td>1</td>\n",
       "      <td>PH</td>\n",
       "      <td>1558378889</td>\n",
       "      <td>69</td>\n",
       "      <td>7.85</td>\n",
       "      <td>126.06</td>\n",
       "      <td>77.00</td>\n",
       "      <td>1.07</td>\n",
       "    </tr>\n",
       "  </tbody>\n",
       "</table>\n",
       "</div>"
      ],
      "text/plain": [
       "     City_ID    City  Cloudiness Country        Date  Humidity    Lat     Lng  \\\n",
       "231      231  mocuba           1      MZ  1558378804        90 -16.84   36.99   \n",
       "494      494   baylo           1      PH  1558378889        69   7.85  126.06   \n",
       "\n",
       "     Max Temp  Wind Speed  \n",
       "231     65.76        2.42  \n",
       "494     77.00        1.07  "
      ]
     },
     "execution_count": 6,
     "metadata": {},
     "output_type": "execute_result"
    }
   ],
   "source": [
    "#Narrow down the DataFrame to find your personal ideal weather conditions for a vacation.\n",
    "temp_ideal = city_data_df.loc[(city_data_df[\"Max Temp\"]>=65)&(city_data_df[\"Max Temp\"]<=80)]\n",
    "wind_ideal = temp_ideal.loc[(temp_ideal[\"Wind Speed\"]<=5)]\n",
    "weather_ideal_df = wind_ideal.loc[(wind_ideal[\"Cloudiness\"]==1)]\n",
    "weather_ideal_df\n"
   ]
  },
  {
   "cell_type": "code",
   "execution_count": 7,
   "metadata": {},
   "outputs": [],
   "source": [
    "#Create variables for hotel locations and humidity\n",
    "hotel_locations = weather_ideal_df[[\"Lat\", \"Lng\"]]\n",
    "humidity = weather_ideal_df[\"Humidity\"].astype(float)"
   ]
  },
  {
   "cell_type": "code",
   "execution_count": 10,
   "metadata": {
    "scrolled": true
   },
   "outputs": [
    {
     "data": {
      "application/vnd.jupyter.widget-view+json": {
       "model_id": "e1d5510fb651409fab7d02c6c0c6376f",
       "version_major": 2,
       "version_minor": 0
      },
      "text/plain": [
       "Figure(layout=FigureLayout(height='420px'))"
      ]
     },
     "metadata": {},
     "output_type": "display_data"
    }
   ],
   "source": [
    "#Create variable for heatmap\n",
    "heat_map = gmaps.figure(center = [0,0] ,zoom_level = 1)\n",
    "\n",
    "#Create variable for heat layer\n",
    "heat_layer = gmaps.heatmap_layer(hotel_locations, weights=humidity,\n",
    "                               dissipating=False, max_intensity=100,\n",
    "                               point_radius = 4)\n",
    "heat_map.add_layer(heat_layer)\n",
    "\n",
    "#Display heatmap\n",
    "heat_map\n"
   ]
  },
  {
   "cell_type": "code",
   "execution_count": 11,
   "metadata": {
    "scrolled": true
   },
   "outputs": [
    {
     "data": {
      "text/html": [
       "<div>\n",
       "<style scoped>\n",
       "    .dataframe tbody tr th:only-of-type {\n",
       "        vertical-align: middle;\n",
       "    }\n",
       "\n",
       "    .dataframe tbody tr th {\n",
       "        vertical-align: top;\n",
       "    }\n",
       "\n",
       "    .dataframe thead th {\n",
       "        text-align: right;\n",
       "    }\n",
       "</style>\n",
       "<table border=\"1\" class=\"dataframe\">\n",
       "  <thead>\n",
       "    <tr style=\"text-align: right;\">\n",
       "      <th></th>\n",
       "      <th>City_ID</th>\n",
       "      <th>City</th>\n",
       "      <th>Cloudiness</th>\n",
       "      <th>Country</th>\n",
       "      <th>Date</th>\n",
       "      <th>Humidity</th>\n",
       "      <th>Lat</th>\n",
       "      <th>Lng</th>\n",
       "      <th>Max Temp</th>\n",
       "      <th>Wind Speed</th>\n",
       "      <th>Hotel Name</th>\n",
       "    </tr>\n",
       "  </thead>\n",
       "  <tbody>\n",
       "    <tr>\n",
       "      <th>0</th>\n",
       "      <td>231</td>\n",
       "      <td>mocuba</td>\n",
       "      <td>1</td>\n",
       "      <td>MZ</td>\n",
       "      <td>1558378804</td>\n",
       "      <td>90</td>\n",
       "      <td>-16.84</td>\n",
       "      <td>36.99</td>\n",
       "      <td>65.76</td>\n",
       "      <td>2.42</td>\n",
       "      <td></td>\n",
       "    </tr>\n",
       "    <tr>\n",
       "      <th>1</th>\n",
       "      <td>494</td>\n",
       "      <td>baylo</td>\n",
       "      <td>1</td>\n",
       "      <td>PH</td>\n",
       "      <td>1558378889</td>\n",
       "      <td>69</td>\n",
       "      <td>7.85</td>\n",
       "      <td>126.06</td>\n",
       "      <td>77.00</td>\n",
       "      <td>1.07</td>\n",
       "      <td></td>\n",
       "    </tr>\n",
       "  </tbody>\n",
       "</table>\n",
       "</div>"
      ],
      "text/plain": [
       "   City_ID    City  Cloudiness Country        Date  Humidity    Lat     Lng  \\\n",
       "0      231  mocuba           1      MZ  1558378804        90 -16.84   36.99   \n",
       "1      494   baylo           1      PH  1558378889        69   7.85  126.06   \n",
       "\n",
       "   Max Temp  Wind Speed Hotel Name  \n",
       "0     65.76        2.42             \n",
       "1     77.00        1.07             "
      ]
     },
     "execution_count": 11,
     "metadata": {},
     "output_type": "execute_result"
    }
   ],
   "source": [
    "#Create hotel_df and add column \"Hotel Name\"\n",
    "#Add \"Hotel Name\" to created dataframe and rename \"hotel_df\"\n",
    "# create hotel file\n",
    "hotel_df = weather_ideal_df.reset_index(drop=True)\n",
    "hotel_df[\"Hotel Name\"] = \"\"\n",
    "hotel_df.head()"
   ]
  },
  {
   "cell_type": "code",
   "execution_count": 12,
   "metadata": {},
   "outputs": [],
   "source": [
    "#Establish parameters for heatmap\n",
    "params = {\n",
    "    \"radius\": 5000,\n",
    "    \"types\": \"hotel\",\n",
    "    \"keyword\": \"hotels\",\n",
    "    \"key\": g_key\n",
    "}"
   ]
  },
  {
   "cell_type": "code",
   "execution_count": 13,
   "metadata": {},
   "outputs": [
    {
     "name": "stdout",
     "output_type": "stream",
     "text": [
      "Skipping\n",
      "Skipping\n"
     ]
    },
    {
     "data": {
      "text/html": [
       "<div>\n",
       "<style scoped>\n",
       "    .dataframe tbody tr th:only-of-type {\n",
       "        vertical-align: middle;\n",
       "    }\n",
       "\n",
       "    .dataframe tbody tr th {\n",
       "        vertical-align: top;\n",
       "    }\n",
       "\n",
       "    .dataframe thead th {\n",
       "        text-align: right;\n",
       "    }\n",
       "</style>\n",
       "<table border=\"1\" class=\"dataframe\">\n",
       "  <thead>\n",
       "    <tr style=\"text-align: right;\">\n",
       "      <th></th>\n",
       "      <th>City_ID</th>\n",
       "      <th>City</th>\n",
       "      <th>Cloudiness</th>\n",
       "      <th>Country</th>\n",
       "      <th>Date</th>\n",
       "      <th>Humidity</th>\n",
       "      <th>Lat</th>\n",
       "      <th>Lng</th>\n",
       "      <th>Max Temp</th>\n",
       "      <th>Wind Speed</th>\n",
       "      <th>Hotel Name</th>\n",
       "    </tr>\n",
       "  </thead>\n",
       "  <tbody>\n",
       "    <tr>\n",
       "      <th>0</th>\n",
       "      <td>231</td>\n",
       "      <td>mocuba</td>\n",
       "      <td>1</td>\n",
       "      <td>MZ</td>\n",
       "      <td>1558378804</td>\n",
       "      <td>90</td>\n",
       "      <td>-16.84</td>\n",
       "      <td>36.99</td>\n",
       "      <td>65.76</td>\n",
       "      <td>2.42</td>\n",
       "      <td></td>\n",
       "    </tr>\n",
       "    <tr>\n",
       "      <th>1</th>\n",
       "      <td>494</td>\n",
       "      <td>baylo</td>\n",
       "      <td>1</td>\n",
       "      <td>PH</td>\n",
       "      <td>1558378889</td>\n",
       "      <td>69</td>\n",
       "      <td>7.85</td>\n",
       "      <td>126.06</td>\n",
       "      <td>77.00</td>\n",
       "      <td>1.07</td>\n",
       "      <td></td>\n",
       "    </tr>\n",
       "  </tbody>\n",
       "</table>\n",
       "</div>"
      ],
      "text/plain": [
       "   City_ID    City  Cloudiness Country        Date  Humidity    Lat     Lng  \\\n",
       "0      231  mocuba           1      MZ  1558378804        90 -16.84   36.99   \n",
       "1      494   baylo           1      PH  1558378889        69   7.85  126.06   \n",
       "\n",
       "   Max Temp  Wind Speed Hotel Name  \n",
       "0     65.76        2.42             \n",
       "1     77.00        1.07             "
      ]
     },
     "execution_count": 13,
     "metadata": {},
     "output_type": "execute_result"
    }
   ],
   "source": [
    "#Create for statment to iterate through lat and long to search for hotels\n",
    "for index, row in hotel_df.iterrows():\n",
    "    lat = row[\"Lat\"]\n",
    "    lng = row[\"Lng\"]\n",
    "    params[\"location\"] = f\"{lat},{lng}\"\n",
    "    \n",
    "    # Query API url\n",
    "    query_url = \"https://maps.googleapis.com/maps/api/place/nearbysearch/json\"\n",
    "    \n",
    "    # Make request\n",
    "    hotel_search = requests.get(query_url, params=params)\n",
    "    \n",
    "    # convert to json\n",
    "    hotel_search = hotel_search.json()\n",
    "    \n",
    "    # Since some data may be missing we incorporate a try-except to skip any that are missing a data point.\n",
    "    try:\n",
    "        hotel_df.loc[index, \"Hotel Name\"] = hotel_df[\"results\"][0][\"name\"]\n",
    "    except (KeyError, IndexError):\n",
    "        print(\"Skipping\")\n",
    "hotel_df"
   ]
  },
  {
   "cell_type": "code",
   "execution_count": 14,
   "metadata": {},
   "outputs": [],
   "source": [
    "# NOTE: Do not change any of the code in this cell\n",
    "\n",
    "# Using the template add the hotel marks to the heatmap\n",
    "info_box_template = \"\"\"\n",
    "<dl>\n",
    "<dt>Name</dt><dd>{Hotel Name}</dd>\n",
    "<dt>City</dt><dd>{City}</dd>\n",
    "<dt>Country</dt><dd>{Country}</dd>\n",
    "</dl>\n",
    "\"\"\"\n",
    "# Store the DataFrame Row\n",
    "# NOTE: be sure to update with your DataFrame name\n",
    "hotel_info = [info_box_template.format(**row) for index, row in hotel_df.iterrows()]\n",
    "locations = hotel_df[[\"Lat\", \"Lng\"]]"
   ]
  },
  {
   "cell_type": "code",
   "execution_count": 16,
   "metadata": {},
   "outputs": [
    {
     "data": {
      "application/vnd.jupyter.widget-view+json": {
       "model_id": "e1d5510fb651409fab7d02c6c0c6376f",
       "version_major": 2,
       "version_minor": 0
      },
      "text/plain": [
       "Figure(layout=FigureLayout(height='420px'))"
      ]
     },
     "metadata": {},
     "output_type": "display_data"
    }
   ],
   "source": [
    "#Marker added to mark hotels\n",
    "markers = gmaps.marker_layer(locations,\n",
    "    info_box_content=[f\"Hotel loc: {rate}\" for rate in hotel_info])\n",
    "\n",
    "heat_map.add_layer(markers)\n",
    "\n",
    "# Display Map\n",
    "heat_map"
   ]
  },
  {
   "cell_type": "code",
   "execution_count": null,
   "metadata": {},
   "outputs": [],
   "source": []
  },
  {
   "cell_type": "code",
   "execution_count": null,
   "metadata": {},
   "outputs": [],
   "source": []
  },
  {
   "cell_type": "code",
   "execution_count": null,
   "metadata": {},
   "outputs": [],
   "source": []
  },
  {
   "cell_type": "code",
   "execution_count": null,
   "metadata": {},
   "outputs": [],
   "source": []
  },
  {
   "cell_type": "code",
   "execution_count": null,
   "metadata": {},
   "outputs": [],
   "source": []
  }
 ],
 "metadata": {
  "kernelspec": {
   "display_name": "Python 3",
   "language": "python",
   "name": "python3"
  },
  "language_info": {
   "codemirror_mode": {
    "name": "ipython",
    "version": 3
   },
   "file_extension": ".py",
   "mimetype": "text/x-python",
   "name": "python",
   "nbconvert_exporter": "python",
   "pygments_lexer": "ipython3",
   "version": "3.6.12"
  }
 },
 "nbformat": 4,
 "nbformat_minor": 4
}
