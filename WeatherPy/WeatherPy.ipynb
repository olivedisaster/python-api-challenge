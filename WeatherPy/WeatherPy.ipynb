{
 "cells": [
  {
   "cell_type": "code",
   "execution_count": 1,
   "metadata": {},
   "outputs": [],
   "source": [
    "# Dependencies and Setup\n",
    "import matplotlib.pyplot as plt\n",
    "import pandas as pd\n",
    "import numpy as np\n",
    "import requests\n",
    "import time\n",
    "from scipy.stats import linregress\n",
    "from pprint import pprint\n",
    "\n",
    "# Import API key\n",
    "from api_keys import weather_api_key\n",
    "\n",
    "# Incorporated citipy to determine city based on latitude and longitude\n",
    "from citipy import citipy\n",
    "\n",
    "# Output File (CSV)\n",
    "output_data_file = \"output_data/cities.csv\"\n",
    "\n",
    "# Range of latitudes and longitudes\n",
    "lat_range = (-90, 90)\n",
    "lng_range = (-180, 180)"
   ]
  },
  {
   "cell_type": "code",
   "execution_count": 2,
   "metadata": {},
   "outputs": [
    {
     "data": {
      "text/plain": [
       "609"
      ]
     },
     "execution_count": 2,
     "metadata": {},
     "output_type": "execute_result"
    }
   ],
   "source": [
    "# List for holding lat_lngs and cities\n",
    "lat_lngs = []\n",
    "cities = []\n",
    "\n",
    "# Create a set of random lat and lng combinations\n",
    "lats = np.random.uniform(lat_range[0], lat_range[1], size=1500)\n",
    "lngs = np.random.uniform(lng_range[0], lng_range[1], size=1500)\n",
    "lat_lngs = zip(lats, lngs)\n",
    "\n",
    "# Identify nearest city for each lat, lng combination\n",
    "for lat_lng in lat_lngs:\n",
    "    city = citipy.nearest_city(lat_lng[0], lat_lng[1]).city_name\n",
    "    \n",
    "    # If the city is unique, then add it to a our cities list\n",
    "    if city not in cities:\n",
    "        cities.append(city)\n",
    "\n",
    "# Print the city count to confirm sufficient count\n",
    "len(cities)"
   ]
  },
  {
   "cell_type": "code",
   "execution_count": 3,
   "metadata": {},
   "outputs": [],
   "source": [
    "#Your first requirement is to create a series of scatter plots to \n",
    "#showcase the following relationships:\n",
    "#Temperature (F) vs. Latitude\n",
    "#Humidity (%) vs. Latitude\n",
    "#Cloudiness (%) vs. Latitude\n",
    "#Wind Speed (mph) vs. Latitude"
   ]
  },
  {
   "cell_type": "code",
   "execution_count": 4,
   "metadata": {},
   "outputs": [],
   "source": [
    "#1) I need to first draw from the url api to create dictionaries for each variable\n",
    "\n",
    "url = \"http://api.openweathermap.org/data/2.5/weather?\"\n",
    "\n",
    "temp = []\n",
    "lats = []\n",
    "lngs = []\n",
    "humidity = []\n",
    "cloudiness = []\n",
    "wind_speed = []\n",
    "city_name = []\n",
    "date = []\n",
    "country = []\n"
   ]
  },
  {
   "cell_type": "code",
   "execution_count": null,
   "metadata": {},
   "outputs": [
    {
     "name": "stdout",
     "output_type": "stream",
     "text": [
      "city not found\n",
      "city not found\n",
      "city not found\n",
      "city not found\n",
      "city not found\n",
      "city not found\n",
      "city not found\n",
      "city not found\n",
      "city not found\n",
      "city not found\n",
      "city not found\n",
      "city not found\n",
      "city not found\n",
      "city not found\n",
      "city not found\n",
      "city not found\n",
      "city not found\n",
      "city not found\n",
      "city not found\n",
      "city not found\n",
      "city not found\n",
      "city not found\n",
      "city not found\n",
      "city not found\n",
      "city not found\n",
      "city not found\n",
      "city not found\n",
      "city not found\n",
      "city not found\n",
      "city not found\n"
     ]
    }
   ],
   "source": [
    "#2) Create for statement to query city weather from api\n",
    "\n",
    "for city in cities:\n",
    "    time.sleep(1.01)\n",
    "    try:\n",
    "        query_city = url + \"appid=\" + weather_api_key + \"&q=\" + city + \"&units=imperial\"\n",
    "        response = requests.get(query_city)\n",
    "        response = response.json()\n",
    "        temp.append(response[\"main\"][\"temp\"])\n",
    "        humidity.append(response[\"main\"][\"humidity\"])\n",
    "        cloudiness.append(response[\"clouds\"][\"all\"])\n",
    "        wind_speed.append(response[\"wind\"][\"speed\"])\n",
    "        city_name.append(response[\"name\"])\n",
    "        date.append(response[\"dt\"])\n",
    "        country.append(response[\"sys\"][\"country\"])\n",
    "        lats.append(response[\"coord\"][\"lat\"])\n",
    "        lngs.append(response[\"coord\"][\"lon\"])\n",
    "        \n",
    "\n",
    "    except KeyError: \n",
    "        print(\"city not found\")\n",
    "        \n",
    "\n",
    "        \n",
    "#print(query_city)"
   ]
  },
  {
   "cell_type": "code",
   "execution_count": null,
   "metadata": {},
   "outputs": [],
   "source": []
  },
  {
   "cell_type": "code",
   "execution_count": null,
   "metadata": {},
   "outputs": [],
   "source": [
    "#3) Create dataframe of using my created dictionaries\n",
    "\n",
    "weather_df = pd.DataFrame({\"City\": city_name,\n",
    "                           \"Temperature (F)\": temp,\n",
    "                           \"Humidity (%)\": humidity,\n",
    "                           \"Cloudiness (%)\": cloudiness,\n",
    "                           \"Wind Speed (mph)\": wind_speed,\n",
    "                           \"Latitude\": lats,\n",
    "                           \"Longitude\": lngs\n",
    "                           \n",
    "                          })\n",
    "output = weather_df.to_csv(\"WeatherPy.csv\")\n",
    "\n",
    "weather_df"
   ]
  },
  {
   "cell_type": "code",
   "execution_count": null,
   "metadata": {},
   "outputs": [],
   "source": [
    "weather_df.plot(kind=\"scatter\", x=\"Latitude\", y=\"Temperature (F)\", title=\"Temperature vs. Latitude\")"
   ]
  },
  {
   "cell_type": "code",
   "execution_count": null,
   "metadata": {},
   "outputs": [],
   "source": [
    "weather_df.plot(kind=\"scatter\", x=\"Latitude\", y=\"Humidity (%)\", title=\"Humidity vs. Latitude\")"
   ]
  },
  {
   "cell_type": "code",
   "execution_count": null,
   "metadata": {},
   "outputs": [],
   "source": [
    "weather_df.plot(kind=\"scatter\", x=\"Latitude\", y=\"Cloudiness (%)\", title=\"Cloudiness vs. Latitude\")"
   ]
  },
  {
   "cell_type": "code",
   "execution_count": null,
   "metadata": {},
   "outputs": [],
   "source": [
    "weather_df.plot(kind=\"scatter\", x=\"Latitude\", y=\"Wind Speed (mph)\", title=\"Wind Speed vs. Latitude\")"
   ]
  },
  {
   "cell_type": "code",
   "execution_count": null,
   "metadata": {},
   "outputs": [],
   "source": [
    "north_df = weather_df.loc[weather_df[\"Latitude\"]>0, :]\n",
    "south_df = weather_df.loc[weather_df[\"Latitude\"]<0, :]"
   ]
  },
  {
   "cell_type": "code",
   "execution_count": null,
   "metadata": {},
   "outputs": [],
   "source": [
    "#Northern Hemisphere - Create scatter plot of Temp. vs. Lat. with linear regression\n",
    "(slope,intercept,rvalue,pvalue,stderr) = linregress(north_df[\"Latitude\"], weather_df[\"Temperature (F)\"])\n",
    "x = weather_df[\"Temperature (F)\"]\n",
    "regressvalues = slope*x+intercept\n",
    "plt.xlabel(\"Latitude\")\n",
    "plt.ylabel(\"Temperature (F)\")\n",
    "plt.title(\"Northern Hemisphere - Temperature vs. Latitude\")\n",
    "plt.plot(x,regressvalues)\n",
    "plt.scatter(x,weather_df[\"Latitude\"])\n",
    "plt.show()"
   ]
  },
  {
   "cell_type": "code",
   "execution_count": null,
   "metadata": {},
   "outputs": [],
   "source": [
    "#Southern Hemisphere - Create scatter plot of Temp. vs. Lat. with linear regression\n",
    "(slope,intercept,rvalue,pvalue,stderr) = linregress(south_df[\"Latitude\"], weather_df[\"Temperature (F)\"])\n",
    "x = weather_df[\"Temperature (F)\"]\n",
    "regressvalues = slope*x+intercept\n",
    "plt.xlabel(\"Latitude\")\n",
    "plt.ylabel(\"Temperature (F)\")\n",
    "plt.title(\"Southern Hemisphere - Temperature vs. Latitude\")\n",
    "plt.plot(x,regressvalues)\n",
    "plt.scatter(x,weather_df[\"Latitude\"])\n",
    "plt.show()"
   ]
  },
  {
   "cell_type": "code",
   "execution_count": null,
   "metadata": {},
   "outputs": [],
   "source": [
    "#Northern Hemisphere - Create scatter plot of Humid. vs. Lat. with linear regression\n",
    "(slope,intercept,rvalue,pvalue,stderr) = linregress( north_df[\"Latitude\"], weather_df[\"Humidity (%)\"])\n",
    "x = weather_df[\"Humidity (%)\"]\n",
    "regressvalues = slope*x+intercept\n",
    "plt.xlabel(\"Latitude\")\n",
    "plt.ylabel(\"Humidity (%)\")\n",
    "plt.title(\"Northern Hemisphere - Humidity vs. Latitude\")\n",
    "plt.plot(x,regressvalues)\n",
    "plt.scatter(x,weather_df[\"Latitude\"])\n",
    "plt.show()"
   ]
  },
  {
   "cell_type": "code",
   "execution_count": null,
   "metadata": {},
   "outputs": [],
   "source": [
    "#Southern Hemisphere - Create scatter plot of Humid. vs. Lat. with linear regression\n",
    "(slope,intercept,rvalue,pvalue,stderr) = linregress(south_df[\"Latitude\"], weather_df[\"Humidity (%)\"])\n",
    "x = weather_df[\"Humidity (%)\"]\n",
    "regressvalues = slope*x+intercept\n",
    "plt.xlabel(\"Latitude\")\n",
    "plt.ylabel(\"Humidity (%)\")\n",
    "plt.title(\"Southern Hemisphere - Humidity vs. Latitude\")\n",
    "plt.plot(x,regressvalues)\n",
    "plt.scatter(x,weather_df[\"Latitude\"])\n",
    "plt.show()"
   ]
  },
  {
   "cell_type": "code",
   "execution_count": null,
   "metadata": {},
   "outputs": [],
   "source": [
    "#Northern Hemisphere - Create scatter plot of Cloud vs. Lat. with linear regression\n",
    "(slope,intercept,rvalue,pvalue,stderr) = linregress(north_df[\"Latitude\"], weather_df[\"Cloudiness (%)\"])\n",
    "x = weather_df[\"Cloudiness (%)\"]\n",
    "regressvalues = slope*x+intercept\n",
    "plt.xlabel(\"Latitude\")\n",
    "plt.ylabel(\"Cloudiness (%)\")\n",
    "plt.title(\"Southern Hemisphere - Cloudiness vs. Latitude\")\n",
    "plt.plot(x,regressvalues)\n",
    "plt.scatter(x,weather_df[\"Latitude\"])\n",
    "plt.show()"
   ]
  },
  {
   "cell_type": "code",
   "execution_count": null,
   "metadata": {},
   "outputs": [],
   "source": [
    "#Southern Hemisphere - Create scatter plot of Cloud vs. Lat. with linear regression\n",
    "(slope,intercept,rvalue,pvalue,stderr) = linregress(south_df[\"Latitude\"], weather_df[\"Cloudiness (%)\"])\n",
    "x = weather_df[\"Cloudiness (%)\"]\n",
    "regressvalues = slope*x+intercept\n",
    "plt.xlabel(\"Latitude\")\n",
    "plt.ylabel(\"Cloudiness (%)\")\n",
    "plt.title(\"Southern Hemisphere - Cloudiness vs. Latitude\")\n",
    "plt.plot(x,regressvalues)\n",
    "plt.scatter(x,weather_df[\"Latitude\"])\n",
    "plt.show()"
   ]
  },
  {
   "cell_type": "code",
   "execution_count": null,
   "metadata": {},
   "outputs": [],
   "source": [
    "north_df = weather_df.loc[weather_df[\"Latitude\"]>0, :]\n",
    "north_df.head()"
   ]
  },
  {
   "cell_type": "code",
   "execution_count": null,
   "metadata": {},
   "outputs": [],
   "source": [
    "#Northern Hemisphere - Create scatter plot of Temp. vs. Lat. with linear regression\n",
    "(slope,intercept,rvalue,pvalue,stderr) = linregress(north_df.loc[\"Latitude\"], weather_df[\"Wind Speed (mph)\"])\n",
    "x = weather_df[\"Wind Speed (mph)\"]\n",
    "regressvalues = slope*x+intercept\n",
    "plt.xlabel(\"Latitude\")\n",
    "plt.ylabel(\"Wind Speed (mph)\")\n",
    "plt.title(\"Northern Hemisphere - Wind Speed vs. Latitude\")\n",
    "plt.plot(x,regressvalues)\n",
    "plt.scatter(x,weather_df[\"Latitude\"])\n",
    "plt.show()"
   ]
  },
  {
   "cell_type": "code",
   "execution_count": null,
   "metadata": {},
   "outputs": [],
   "source": [
    "#Southern Hemisphere - Create scatter plot of Wind Speed vs. Lat. with linear regression\n",
    "(slope,intercept,rvalue,pvalue,stderr) = linregress(south_df[\"Latitude\"], weather_df[\"Wind Speed (mph)\"])\n",
    "x = weather_df[\"Wind Speed (mph)\"]\n",
    "regressvalues = slope*x+intercept\n",
    "plt.xlabel(\"Latitude\")\n",
    "plt.ylabel(\"Wind Speed (mph)\")\n",
    "plt.title(\"Southern Hemisphere - Wind Speed vs. Latitude\")\n",
    "plt.plot(x,regressvalues)\n",
    "plt.scatter(x,weather_df[\"Latitude\"])\n",
    "plt.show()"
   ]
  },
  {
   "cell_type": "code",
   "execution_count": null,
   "metadata": {},
   "outputs": [],
   "source": []
  }
 ],
 "metadata": {
  "kernelspec": {
   "display_name": "Python 3",
   "language": "python",
   "name": "python3"
  },
  "language_info": {
   "codemirror_mode": {
    "name": "ipython",
    "version": 3
   },
   "file_extension": ".py",
   "mimetype": "text/x-python",
   "name": "python",
   "nbconvert_exporter": "python",
   "pygments_lexer": "ipython3",
   "version": "3.6.12"
  }
 },
 "nbformat": 4,
 "nbformat_minor": 4
}
